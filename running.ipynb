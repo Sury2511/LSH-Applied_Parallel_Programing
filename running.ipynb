{
 "cells": [
  {
   "cell_type": "markdown",
   "metadata": {},
   "source": [
    "# LSH Running Testing by Double 2T\n",
    "### Nguyen Minh Tuan\n",
    "### Duong Minh Tung"
   ]
  },
  {
   "cell_type": "markdown",
   "metadata": {},
   "source": [
    "Đảm bảo tất cả các thư viện cần dùng đã được import"
   ]
  },
  {
   "cell_type": "code",
   "execution_count": 1,
   "metadata": {},
   "outputs": [],
   "source": [
    "## Import Necessary Libraries\n",
    "import pandas as pd\n",
    "import numpy as np\n",
    "import time\n",
    "from numba import cuda, jit\n",
    "from datasketch import MinHash, MinHashLSH\n",
    "import LSH_class"
   ]
  },
  {
   "cell_type": "markdown",
   "metadata": {},
   "source": [
    "Tiến hành load data từ file CSV"
   ]
  },
  {
   "cell_type": "code",
   "execution_count": 2,
   "metadata": {},
   "outputs": [],
   "source": [
    "## Load Data\n",
    "# Load the CSV file\n",
    "df = pd.read_csv('movies_with_genres.csv')\n",
    "movies = {}\n",
    "for index, row in df.iterrows():\n",
    "    title = row['originalTitle']\n",
    "    tags = str(row['genres']).split(', ')\n",
    "    tags = [tag.strip() for tag in tags]\n",
    "    movies[title] = tags"
   ]
  },
  {
   "cell_type": "code",
   "execution_count": 3,
   "metadata": {},
   "outputs": [],
   "source": [
    "import random\n",
    "from collections import defaultdict\n",
    "from datasketch import MinHash\n",
    "\n",
    "class MinHashLSH:\n",
    "    def __init__(self, threshold=0.5, num_perm=128):\n",
    "        self.threshold = threshold\n",
    "        self.num_perm = num_perm\n",
    "        self.bands = int(self.num_perm / (1.0 / self.threshold))\n",
    "        self.rows = self.num_perm // self.bands\n",
    "        self.buckets = [defaultdict(list) for _ in range(self.bands)]\n",
    "\n",
    "    def _hash_band(self, minhash, band):\n",
    "        start = band * self.rows\n",
    "        end = start + self.rows\n",
    "        return hash(tuple(minhash.hashvalues[start:end]))\n",
    "\n",
    "    def insert(self, key, minhash):\n",
    "        for i in range(self.bands):\n",
    "            hash_value = self._hash_band(minhash, i)\n",
    "            self.buckets[i][hash_value].append(key)\n",
    "\n",
    "    def query(self, minhash):\n",
    "        candidates = set()\n",
    "        for i in range(self.bands):\n",
    "            hash_value = self._hash_band(minhash, i)\n",
    "            candidates.update(self.buckets[i][hash_value])\n",
    "        return list(candidates)"
   ]
  },
  {
   "cell_type": "markdown",
   "metadata": {},
   "source": [
    "Original LSH Implementation"
   ]
  },
  {
   "cell_type": "code",
   "execution_count": 4,
   "metadata": {},
   "outputs": [],
   "source": [
    "## Original LSH Implementation\n",
    "def original_lsh(movies, num_hashes=128):\n",
    "    start = time.time()\n",
    "    lsh = MinHashLSH(threshold=0.5, num_perm=num_hashes)\n",
    "\n",
    "    for title, tags in movies.items():\n",
    "        m = MinHash(num_perm=num_hashes)\n",
    "        for tag in tags:\n",
    "            m.update(tag.encode('utf8'))\n",
    "        lsh.insert(title, m)  \n",
    "\n",
    "    end = time.time()\n",
    "    return lsh, end - start"
   ]
  },
  {
   "cell_type": "code",
   "execution_count": 10,
   "metadata": {},
   "outputs": [
    {
     "name": "stdout",
     "output_type": "stream",
     "text": [
      "Movies similar to the query: ['movie1', 'movie2', 'movie5', 'movie4', 'movie3']\n"
     ]
    }
   ],
   "source": [
    "# Example movies dataset\n",
    "movies = {\n",
    "    \"movie1\": {\"action\", \"adventure\", \"comedy\"},\n",
    "    \"movie2\": {\"drama\", \"romance\", \"comedy\"},\n",
    "    \"movie3\": {\"action\", \"thriller\", \"crime\"},\n",
    "    \"movie4\": {\"romance\", \"drama\"},\n",
    "    \"movie5\": {\"action\", \"adventure\", \"thriller\"}\n",
    "}\n",
    "\n",
    "# Create the LSH and insert the movies\n",
    "lsh, duration = original_lsh(movies)\n",
    "\n",
    "# Query for a similar movie\n",
    "query_movie = {\"action\", 'drama', 'romance'}\n",
    "\n",
    "# Create a MinHash object for the query movie\n",
    "m = MinHash(num_perm=128)\n",
    "for tag in query_movie:\n",
    "    m.update(tag.encode('utf8'))\n",
    "\n",
    "# Query the LSH\n",
    "similar_movies = lsh.query(m)\n",
    "\n",
    "print(f\"Movies similar to the query: {similar_movies}\")\n"
   ]
  },
  {
   "cell_type": "markdown",
   "metadata": {},
   "source": [
    "Parallel LSH Implementation"
   ]
  },
  {
   "cell_type": "code",
   "execution_count": 3,
   "metadata": {},
   "outputs": [],
   "source": [
    "## Parallel LSH Implementation\n",
    "@jit\n",
    "def custom_hash(x, seed):\n",
    "    return (x * 0x9e3779b9 + seed) & 0xFFFFFFFF\n",
    "\n",
    "@cuda.jit\n",
    "def cuda_update(tags, minhashes, num_hashes):\n",
    "    pos = cuda.grid(1)\n",
    "    if pos < tags.shape[0]:\n",
    "        tag = tags[pos]\n",
    "        for i in range(num_hashes):\n",
    "            tag_hash = custom_hash(tag, i)\n",
    "            cuda.atomic.min(minhashes, (pos, i), tag_hash)\n",
    "\n",
    "def update_minhash_gpu(tags, num_hashes):\n",
    "    tags_gpu = cuda.to_device(np.array(tags, dtype=np.int32))\n",
    "    num_tags = tags_gpu.size\n",
    "    minhashes_gpu = cuda.to_device(np.full((num_tags, num_hashes), np.inf, dtype=np.float32))\n",
    "\n",
    "    threads_per_block = 256\n",
    "    blocks_per_grid = (num_tags + (threads_per_block - 1)) // threads_per_block\n",
    "\n",
    "    cuda_update[blocks_per_grid, threads_per_block](tags_gpu, minhashes_gpu, num_hashes)\n",
    "\n",
    "    return minhashes_gpu.copy_to_host()\n",
    "\n",
    "def parallel_lsh(movies, num_hashes=128):\n",
    "    start = time.time()\n",
    "    lsh = LSH_class.LSH(num_hashes=num_hashes)\n",
    "\n",
    "    unique_tags = set(tag for tags in movies.values() for tag in tags)\n",
    "    tag_to_int = {tag: i for i, tag in enumerate(unique_tags)}\n",
    "\n",
    "    int_tags_dict = {title: np.array([tag_to_int[tag] for tag in tags], dtype=np.int32) for title, tags in movies.items()}\n",
    "    all_tags = np.concatenate(list(int_tags_dict.values()))\n",
    "    tags_offset = np.cumsum([0] + [len(tags) for tags in int_tags_dict.values()])\n",
    "\n",
    "    all_tags_gpu = cuda.to_device(all_tags)\n",
    "    minhashes_gpu = cuda.to_device(np.full((all_tags.size, num_hashes), np.inf, dtype=np.float32))\n",
    "\n",
    "    threads_per_block = 256\n",
    "    blocks_per_grid = (all_tags.size + (threads_per_block - 1)) // threads_per_block\n",
    "\n",
    "    cuda_update[blocks_per_grid, threads_per_block](all_tags_gpu, minhashes_gpu, num_hashes)\n",
    "\n",
    "    all_minhashes = minhashes_gpu.copy_to_host()\n",
    "\n",
    "    for i, (title, tags) in enumerate(movies.items()):\n",
    "        start_idx = tags_offset[i]\n",
    "        end_idx = tags_offset[i + 1]\n",
    "        minhash_signature = np.min(all_minhashes[start_idx:end_idx], axis=0)\n",
    "        lsh.insert(title, minhash_signature)\n",
    "\n",
    "    end = time.time()\n",
    "    return lsh, end - start"
   ]
  },
  {
   "cell_type": "markdown",
   "metadata": {},
   "source": [
    "Điểm khác biệt giữa 2 phiên bản\n",
    "1. Phương thức băm và cải tiến:\n",
    "\n",
    "- Phiên bản gốc: Sử dụng thư viện datasketch với MinHash và MinHashLSH. Mỗi thẻ (tag) được mã hóa và cập nhật vào một đối tượng MinHash.\n",
    "- Phiên bản song song: Sử dụng một hàm băm tùy chỉnh (custom_hash) và cập nhật giá trị băm nhỏ nhất cho mỗi thẻ (tag) bằng CUDA để tính toán song song.\n",
    "- Phiên bản này không dùng datasketch mà tự triển khai hàm băm và cập nhật bằng GPU.\n",
    "\n",
    "2. Xử lý song song:\n",
    "\n",
    "- Phiên bản gốc: Xử lý tuần tự. Mỗi bộ thẻ (tag) được xử lý từng cái một.\n",
    "- Phiên bản song song: Xử lý song song bằng CUDA. Các thẻ (tag) được chuyển đổi thành các số nguyên và các giá trị băm nhỏ nhất được cập nhật đồng thời trên GPU.\n",
    "\n",
    "3. Hiệu suất:\n",
    "\n",
    "- Phiên bản gốc: Thực hiện trên CPU, chậm với số lượng phim và thẻ (tag) lớn.\n",
    "- Phiên bản song song: Sử dụng GPU để tăng tốc độ tính toán các giá trị băm, giúp cải thiện hiệu suất đáng kể khi xử lý một lượng lớn dữ liệu.\n",
    "\n",
    "4. Cấu trúc dữ liệu:\n",
    "\n",
    "- Phiên bản gốc: Mỗi phim có một đối tượng MinHash riêng.\n",
    "- Phiên bản song song: Các thẻ (tag) được chuyển đổi thành số nguyên và tất cả các phim được xử lý cùng lúc bằng CUDA, sau đó các chữ ký MinHash được lấy từ giá trị băm nhỏ nhất.\n"
   ]
  },
  {
   "cell_type": "code",
   "execution_count": 4,
   "metadata": {},
   "outputs": [
    {
     "name": "stdout",
     "output_type": "stream",
     "text": [
      "Parallel LSH Time: 124.59 seconds\n"
     ]
    }
   ],
   "source": [
    "## Comparison\n",
    "num_hashes = 128\n",
    "\n",
    "# Original LSH\n",
    "# original_lsh_instance, original_time = original_lsh(movies, num_hashes)\n",
    "\n",
    "# Parallel LSH\n",
    "parallel_lsh_instance, parallel_time = parallel_lsh(movies, num_hashes)\n",
    "\n",
    "# Print Results\n",
    "# print(f\"Original LSH Time: {original_time:.2f} seconds\")\n",
    "print(f\"Parallel LSH Time: {parallel_time:.2f} seconds\")"
   ]
  },
  {
   "cell_type": "markdown",
   "metadata": {},
   "source": [
    "Thời gian chạy:\n",
    "+ Phiên bản gốc: ... s\n",
    "+ Phiên bản đã được tối ưu GPU: 74s"
   ]
  },
  {
   "cell_type": "code",
   "execution_count": 5,
   "metadata": {},
   "outputs": [
    {
     "name": "stdout",
     "output_type": "stream",
     "text": [
      "Key: Carmencita, Bands: [(1457684100.0,)]\n",
      "Key: Chinese Opium Den, Bands: [(1457684100.0,)]\n",
      "Key: Das boxende Känguruh, Bands: [(1457684100.0,)]\n",
      "Key: Les forgerons, Bands: [(1457684100.0,)]\n",
      "Key: Baignade en mer, Bands: [(1457684100.0,)]\n",
      "Key: Barnet Horse Fair, Bands: [(1457684100.0,)]\n",
      "Key: Bataille de neige, Bands: [(1457684100.0,)]\n",
      "Key: Le bivouac, Bands: [(1457684100.0,)]\n",
      "Key: Les blanchisseuses, Bands: [(1457684100.0,)]\n",
      "Key: Les chevaux de bois, Bands: [(1457684100.0,)]\n"
     ]
    }
   ],
   "source": [
    "# Parallel LSH\n",
    "parallel_lsh_instance.show_signatures()"
   ]
  },
  {
   "cell_type": "markdown",
   "metadata": {},
   "source": [
    "Signature ở đây sẽ có dạng Key, Band với \n",
    "+ Key là tên của bộ phim trong dataset\n",
    "+ Band là số của tag sau khi được chia vào trong bucket"
   ]
  },
  {
   "cell_type": "code",
   "execution_count": 6,
   "metadata": {},
   "outputs": [
    {
     "ename": "TypeError",
     "evalue": "'MinHash' object is not subscriptable",
     "output_type": "error",
     "traceback": [
      "\u001b[1;31m---------------------------------------------------------------------------\u001b[0m",
      "\u001b[1;31mTypeError\u001b[0m                                 Traceback (most recent call last)",
      "Cell \u001b[1;32mIn[6], line 13\u001b[0m\n\u001b[0;32m     11\u001b[0m query_str \u001b[38;5;241m=\u001b[39m \u001b[38;5;124m\"\u001b[39m\u001b[38;5;124mAction, Adventure\u001b[39m\u001b[38;5;124m\"\u001b[39m\n\u001b[0;32m     12\u001b[0m \u001b[38;5;66;03m# original_result = query_lsh(original_lsh_instance, query_str, movies, num_hashes)\u001b[39;00m\n\u001b[1;32m---> 13\u001b[0m parallel_result \u001b[38;5;241m=\u001b[39m \u001b[43mquery_lsh\u001b[49m\u001b[43m(\u001b[49m\u001b[43mparallel_lsh_instance\u001b[49m\u001b[43m,\u001b[49m\u001b[43m \u001b[49m\u001b[43mquery_str\u001b[49m\u001b[43m,\u001b[49m\u001b[43m \u001b[49m\u001b[43mmovies\u001b[49m\u001b[43m,\u001b[49m\u001b[43m \u001b[49m\u001b[43mnum_hashes\u001b[49m\u001b[43m)\u001b[49m\n\u001b[0;32m     15\u001b[0m \u001b[38;5;66;03m# Print Query Results\u001b[39;00m\n\u001b[0;32m     16\u001b[0m \u001b[38;5;66;03m# print(\"Original LSH Query Result:\")\u001b[39;00m\n\u001b[0;32m     17\u001b[0m \u001b[38;5;66;03m# print(original_result)\u001b[39;00m\n\u001b[0;32m     19\u001b[0m \u001b[38;5;28mprint\u001b[39m(\u001b[38;5;124m\"\u001b[39m\u001b[38;5;124mParallel LSH Query Result:\u001b[39m\u001b[38;5;124m\"\u001b[39m)\n",
      "Cell \u001b[1;32mIn[6], line 7\u001b[0m, in \u001b[0;36mquery_lsh\u001b[1;34m(lsh, query_str, tag_to_int, num_hashes)\u001b[0m\n\u001b[0;32m      5\u001b[0m \u001b[38;5;28;01mfor\u001b[39;00m tag \u001b[38;5;129;01min\u001b[39;00m query:\n\u001b[0;32m      6\u001b[0m     query_minhash\u001b[38;5;241m.\u001b[39mupdate(tag\u001b[38;5;241m.\u001b[39mencode(\u001b[38;5;124m'\u001b[39m\u001b[38;5;124mutf8\u001b[39m\u001b[38;5;124m'\u001b[39m))\n\u001b[1;32m----> 7\u001b[0m result \u001b[38;5;241m=\u001b[39m \u001b[43mlsh\u001b[49m\u001b[38;5;241;43m.\u001b[39;49m\u001b[43mquery\u001b[49m\u001b[43m(\u001b[49m\u001b[43mquery_minhash\u001b[49m\u001b[43m)\u001b[49m\n\u001b[0;32m      8\u001b[0m \u001b[38;5;28;01mreturn\u001b[39;00m result\n",
      "File \u001b[1;32mc:\\Users\\minht\\OneDrive\\Documents\\GitHub\\LSH-Applied_Parallel_Programing\\LSH-Applied_Parallel_Programing\\LSH-Applied_Parallel_Programing\\LSH_class.py:25\u001b[0m, in \u001b[0;36mLSH.query\u001b[1;34m(self, minhash)\u001b[0m\n\u001b[0;32m     24\u001b[0m \u001b[38;5;28;01mdef\u001b[39;00m \u001b[38;5;21mquery\u001b[39m(\u001b[38;5;28mself\u001b[39m, minhash):\n\u001b[1;32m---> 25\u001b[0m     bands \u001b[38;5;241m=\u001b[39m \u001b[38;5;28;43mself\u001b[39;49m\u001b[38;5;241;43m.\u001b[39;49m\u001b[43m_get_bands\u001b[49m\u001b[43m(\u001b[49m\u001b[43mminhash\u001b[49m\u001b[43m)\u001b[49m\n\u001b[0;32m     26\u001b[0m     candidates \u001b[38;5;241m=\u001b[39m \u001b[38;5;28mset\u001b[39m()\n\u001b[0;32m     27\u001b[0m     \u001b[38;5;28;01mfor\u001b[39;00m i, band \u001b[38;5;129;01min\u001b[39;00m \u001b[38;5;28menumerate\u001b[39m(bands):\n",
      "File \u001b[1;32mc:\\Users\\minht\\OneDrive\\Documents\\GitHub\\LSH-Applied_Parallel_Programing\\LSH-Applied_Parallel_Programing\\LSH-Applied_Parallel_Programing\\LSH_class.py:13\u001b[0m, in \u001b[0;36mLSH._get_bands\u001b[1;34m(self, minhash)\u001b[0m\n\u001b[0;32m     11\u001b[0m     start \u001b[38;5;241m=\u001b[39m i \u001b[38;5;241m*\u001b[39m rows_per_band\n\u001b[0;32m     12\u001b[0m     end \u001b[38;5;241m=\u001b[39m (i \u001b[38;5;241m+\u001b[39m \u001b[38;5;241m1\u001b[39m) \u001b[38;5;241m*\u001b[39m rows_per_band\n\u001b[1;32m---> 13\u001b[0m     band \u001b[38;5;241m=\u001b[39m \u001b[38;5;28mtuple\u001b[39m(\u001b[43mminhash\u001b[49m\u001b[43m[\u001b[49m\u001b[43mstart\u001b[49m\u001b[43m:\u001b[49m\u001b[43mend\u001b[49m\u001b[43m]\u001b[49m)\n\u001b[0;32m     14\u001b[0m     bands\u001b[38;5;241m.\u001b[39mappend(band)\n\u001b[0;32m     15\u001b[0m \u001b[38;5;28;01mreturn\u001b[39;00m bands\n",
      "\u001b[1;31mTypeError\u001b[0m: 'MinHash' object is not subscriptable"
     ]
    }
   ],
   "source": [
    "## Query Function\n",
    "def query_lsh(lsh, query_str, tag_to_int, num_hashes):\n",
    "    query = [tag.strip() for tag in query_str.split(',')]\n",
    "    query_minhash = MinHash(num_perm=num_hashes)\n",
    "    for tag in query:\n",
    "        query_minhash.update(tag.encode('utf8'))\n",
    "    result = lsh.query(query_minhash)\n",
    "    return result\n",
    "\n",
    "## Query Example\n",
    "query_str = \"Action, Adventure\"\n",
    "# original_result = query_lsh(original_lsh_instance, query_str, movies, num_hashes)\n",
    "parallel_result = query_lsh(parallel_lsh_instance, query_str, movies, num_hashes)\n",
    "\n",
    "# Print Query Results\n",
    "# print(\"Original LSH Query Result:\")\n",
    "# print(original_result)\n",
    "\n",
    "print(\"Parallel LSH Query Result:\")\n",
    "print(parallel_result)"
   ]
  }
 ],
 "metadata": {
  "kernelspec": {
   "display_name": "Python 3",
   "language": "python",
   "name": "python3"
  },
  "language_info": {
   "codemirror_mode": {
    "name": "ipython",
    "version": 3
   },
   "file_extension": ".py",
   "mimetype": "text/x-python",
   "name": "python",
   "nbconvert_exporter": "python",
   "pygments_lexer": "ipython3",
   "version": "3.11.9"
  }
 },
 "nbformat": 4,
 "nbformat_minor": 2
}
